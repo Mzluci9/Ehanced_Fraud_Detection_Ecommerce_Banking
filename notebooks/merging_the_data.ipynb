{
 "cells": [
  {
   "cell_type": "code",
   "execution_count": 11,
   "id": "f0307f47",
   "metadata": {},
   "outputs": [
    {
     "name": "stdout",
     "output_type": "stream",
     "text": [
      "Current working directory: c:\\Users\\HP\\10 Acadamy PRojects\\New folder (8 & 9)\\Ehanced_Fraud_Detection_Ecommerce_Banking\\notebooks\n"
     ]
    }
   ],
   "source": [
    "import pandas as pd\n",
    "import ipaddress\n",
    "from intervaltree import Interval, IntervalTree\n",
    "import os\n",
    "print(\"Current working directory:\", os.getcwd())\n"
   ]
  },
  {
   "cell_type": "code",
   "execution_count": 4,
   "id": "07fc9fca",
   "metadata": {},
   "outputs": [],
   "source": [
    "\n",
    "# Function to convert IP address to integer\n",
    "def ip_to_int(ip):\n",
    "    if pd.isna(ip):\n",
    "        return None\n",
    "    try:\n",
    "        return int(ip)\n",
    "    except ValueError:\n",
    "        return int(ipaddress.ip_address(ip))\n"
   ]
  },
  {
   "cell_type": "code",
   "execution_count": 14,
   "id": "060f5aee",
   "metadata": {},
   "outputs": [
    {
     "name": "stdout",
     "output_type": "stream",
     "text": [
      "Index(['lower_bound_ip_address', 'upper_bound_ip_address', 'country'], dtype='object')\n",
      "   user_id          signup_time        purchase_time  purchase_value  \\\n",
      "0    22058  2015-02-24 22:55:49  2015-04-18 02:47:11              34   \n",
      "1   333320  2015-06-07 20:39:50  2015-06-08 01:38:54              16   \n",
      "2     1359  2015-01-01 18:52:44  2015-01-01 18:52:45              15   \n",
      "3   150084  2015-04-28 21:13:25  2015-05-04 13:54:50              44   \n",
      "4   221365  2015-07-21 07:09:52  2015-09-09 18:40:53              39   \n",
      "\n",
      "       device_id source browser sex  age    ip_address  class  ip_address_int  \\\n",
      "0  QVPSPJUOCKZAR    SEO  Chrome   M   39  7.327584e+08      0       732758368   \n",
      "1  EOGFQPIZPYXFZ    Ads  Chrome   F   53  3.503114e+08      0       350311387   \n",
      "2  YSSKYOSJHPPLJ    SEO   Opera   M   53  2.621474e+09      1      2621473820   \n",
      "3  ATGTXKYKUDUQN    SEO  Safari   M   41  3.840542e+09      0      3840542443   \n",
      "4  NAUITBZFJKHWW    Ads  Safari   M   45  4.155831e+08      0       415583117   \n",
      "\n",
      "         country  \n",
      "0          Japan  \n",
      "1  United States  \n",
      "2  United States  \n",
      "3        Unknown  \n",
      "4  United States  \n"
     ]
    }
   ],
   "source": [
    "def main():\n",
    "    # Load the datasets\n",
    "    fraud_data = pd.read_csv('../data/raw/Fraud_Data.csv')\n",
    "    ip_address_data = pd.read_csv('../data/raw/ipAddress_to_Country.csv')\n",
    "\n",
    "    # Print columns of ip_address_data to inspect\n",
    "    print(ip_address_data.columns)\n",
    "\n",
    "    # Handle NaN values in IP address columns and convert IP address ranges to integers\n",
    "    ip_address_data.dropna(subset=['lower_bound_ip_address', 'upper_bound_ip_address'], inplace=True)\n",
    "    ip_address_data['lower_bound_ip_address_int'] = ip_address_data['lower_bound_ip_address'].apply(ip_to_int)\n",
    "    ip_address_data['upper_bound_ip_address_int'] = ip_address_data['upper_bound_ip_address'].apply(ip_to_int)\n",
    "\n",
    "    # Create an interval tree for IP ranges\n",
    "    ip_tree = IntervalTree()\n",
    "    for _, row in ip_address_data.iterrows():\n",
    "        ip_tree[row['lower_bound_ip_address_int']:row['upper_bound_ip_address_int'] + 1] = row['country']\n",
    "\n",
    "    # Function to map IP address to country using the interval tree\n",
    "    def map_ip_to_country(ip_int):\n",
    "        if ip_int is None:\n",
    "            return 'Unknown'\n",
    "        interval = ip_tree[ip_int]\n",
    "        if interval:\n",
    "            return interval.pop().data\n",
    "        else:\n",
    "            return 'Unknown'\n",
    "\n",
    "    # Handle NaN values in fraud_data IP addresses and apply function to get country for each IP address\n",
    "    fraud_data.dropna(subset=['ip_address'], inplace=True)\n",
    "    fraud_data['ip_address_int'] = fraud_data['ip_address'].apply(ip_to_int)\n",
    "    fraud_data['country'] = fraud_data['ip_address_int'].apply(map_ip_to_country)\n",
    "\n",
    "    # Save the processed fraud data with country information\n",
    "    fraud_data.to_csv('../data/raw/merged_fraud_data_with_country.csv', index=False)\n",
    "\n",
    "    # Display the first few rows of the updated fraud_data\n",
    "    print(fraud_data.head())\n",
    "\n",
    "if __name__ == \"__main__\":\n",
    "    main()\n",
    "    "
   ]
  },
  {
   "cell_type": "code",
   "execution_count": null,
   "id": "b93071d1",
   "metadata": {},
   "outputs": [],
   "source": []
  }
 ],
 "metadata": {
  "kernelspec": {
   "display_name": ".venv",
   "language": "python",
   "name": "python3"
  },
  "language_info": {
   "codemirror_mode": {
    "name": "ipython",
    "version": 3
   },
   "file_extension": ".py",
   "mimetype": "text/x-python",
   "name": "python",
   "nbconvert_exporter": "python",
   "pygments_lexer": "ipython3",
   "version": "3.13.4"
  }
 },
 "nbformat": 4,
 "nbformat_minor": 5
}
